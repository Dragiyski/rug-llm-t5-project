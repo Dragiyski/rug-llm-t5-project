{
 "cells": [
  {
   "cell_type": "markdown",
   "id": "ae531699",
   "metadata": {},
   "source": [
    "Import dependencies"
   ]
  },
  {
   "cell_type": "code",
   "execution_count": null,
   "id": "337ec59c",
   "metadata": {},
   "outputs": [],
   "source": [
    "import torch as t\n",
    "import transformers, pickle"
   ]
  },
  {
   "cell_type": "markdown",
   "id": "aa510d2e",
   "metadata": {},
   "source": [
    "Global GPU"
   ]
  },
  {
   "cell_type": "code",
   "execution_count": null,
   "id": "c0f412b0",
   "metadata": {},
   "outputs": [],
   "source": [
    "output_device = t.device('cpu')\n",
    "model_run_device = t.device('cuda') if t.cuda.is_available() else t.device('cpu')"
   ]
  },
  {
   "cell_type": "markdown",
   "id": "835689dc",
   "metadata": {},
   "source": [
    "Set up trainers. Adjust batch size based on VRAM availability."
   ]
  },
  {
   "cell_type": "code",
   "execution_count": null,
   "id": "bd9f9441",
   "metadata": {},
   "outputs": [],
   "source": [
    "def trainer_inator(file_name, tokens):\n",
    "    model = transformers.T5ForConditionalGeneration.from_pretrained('t5-base')\n",
    "    training_args = transformers.TrainingArguments(\n",
    "        output_dir=f'./checkpoints/full-fine-tuning-{file_name}-t5-base',\n",
    "        eval_strategy=\"epoch\",\n",
    "        learning_rate=1e-4,\n",
    "        per_device_train_batch_size=16,\n",
    "        per_device_eval_batch_size=16,\n",
    "        num_train_epochs=3,\n",
    "        weight_decay=0.01,\n",
    "        logging_dir=\"./logs\",\n",
    "        log_level=\"info\",\n",
    "        save_total_limit=1,\n",
    "        overwrite_output_dir=True,\n",
    "        disable_tqdm=False,\n",
    "        use_cpu=False,\n",
    "        fp16=True\n",
    "    )\n",
    "    trainer = transformers.Trainer(\n",
    "        model=model,\n",
    "        args=training_args,\n",
    "        train_dataset=tokens['train'],\n",
    "        eval_dataset=tokens['test']\n",
    "    )\n",
    "    trainer.model.to(model_run_device)\n",
    "    return(trainer)"
   ]
  },
  {
   "cell_type": "markdown",
   "id": "e800a7fc",
   "metadata": {},
   "source": [
    "Load each of the datasets (CNN, SAMSum, Mixed) from preprocessing and call the trainer inator for each. "
   ]
  },
  {
   "cell_type": "code",
   "execution_count": null,
   "id": "1ee542b1",
   "metadata": {},
   "outputs": [],
   "source": [
    "with open(f'./preprocessing/cnn_tokens.pickle', \"rb\") as file:\n",
    "    cnn_tokens = pickle.load(file)\n",
    "cnn_FFT_trainer = trainer_inator(\"cnn\", cnn_tokens)"
   ]
  },
  {
   "cell_type": "code",
   "execution_count": null,
   "id": "aa3d917a",
   "metadata": {},
   "outputs": [],
   "source": [
    "with open(f'./preprocessing/samsum_tokens.pickle', \"rb\") as file:\n",
    "    samsum_tokens = pickle.load(file)\n",
    "samsum_FFT_trainer = trainer_inator(\"samsum\", samsum_tokens)"
   ]
  },
  {
   "cell_type": "code",
   "execution_count": null,
   "id": "69569e0c",
   "metadata": {},
   "outputs": [],
   "source": [
    "with open(f'./preprocessing/mixed_tokens.pickle', \"rb\") as file:\n",
    "    mixed_tokens = pickle.load(file)\n",
    "mixed_FFT_trainer = trainer_inator(\"mixed\", mixed_tokens)"
   ]
  },
  {
   "cell_type": "markdown",
   "id": "a324eb4c",
   "metadata": {},
   "source": [
    "Train the models!!!"
   ]
  },
  {
   "cell_type": "code",
   "execution_count": null,
   "id": "dbb06b5c",
   "metadata": {},
   "outputs": [],
   "source": [
    "cnn_FFT_trainer.train()\n",
    "with open(f\"./models/cnn_FFT_trainer.pickle\", \"wb\") as file:\n",
    "    pickle.dump(cnn_FFT_trainer, file)"
   ]
  },
  {
   "cell_type": "code",
   "execution_count": null,
   "id": "71fd044a",
   "metadata": {},
   "outputs": [],
   "source": [
    "samsum_FFT_trainer.train()\n",
    "with open(f\"./models/samsum_FFT_trainer.pickle\", \"wb\") as file:\n",
    "    pickle.dump(samsum_FFT_trainer, file)"
   ]
  },
  {
   "cell_type": "code",
   "execution_count": null,
   "id": "c500d180",
   "metadata": {},
   "outputs": [],
   "source": [
    "mixed_FFT_trainer.train()\n",
    "with open(f\"./models/mixed_FFT_trainer.pickle\", \"wb\") as file:\n",
    "    pickle.dump(mixed_FFT_trainer, file)"
   ]
  },
  {
   "cell_type": "markdown",
   "id": "9b316af0",
   "metadata": {},
   "source": [
    "Also save them."
   ]
  }
 ],
 "metadata": {
  "kernelspec": {
   "display_name": "Python 3.10.4 (GPU)",
   "language": "python",
   "name": "sys_python"
  },
  "language_info": {
   "codemirror_mode": {
    "name": "ipython",
    "version": 3
   },
   "file_extension": ".py",
   "mimetype": "text/x-python",
   "name": "python",
   "nbconvert_exporter": "python",
   "pygments_lexer": "ipython3",
   "version": "3.10.4"
  }
 },
 "nbformat": 4,
 "nbformat_minor": 5
}
